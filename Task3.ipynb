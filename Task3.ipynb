{
 "cells": [
  {
   "cell_type": "code",
   "execution_count": 4,
   "id": "b2926c21-16de-45e6-9b67-5a14c331ccc7",
   "metadata": {},
   "outputs": [
    {
     "name": "stdin",
     "output_type": "stream",
     "text": [
      "What size do you want? Type S for Small, M for Medium, and L for Large:  L\n",
      "Add pepperoni? Y or N:  N\n",
      "Extra cheese? Y or N:  N\n"
     ]
    },
    {
     "name": "stdout",
     "output_type": "stream",
     "text": [
      "Your bill is $0\n"
     ]
    }
   ],
   "source": [
    "#Small pizza (S)=15\n",
    "#Medium pizza (M)=20\n",
    "#Large pizza (L)=25\n",
    "\n",
    "pizza_size = str(input(\"What size do you want? Type S for Small, M for Medium, and L for Large: \"))\n",
    "want_pepperoni = input(\"Add pepperoni? Y or N: \")\n",
    "extra_cheese = input(\"Extra cheese? Y or N: \")\n",
    "bill=0\n",
    "\n",
    "#Add pepperoni for small pizza (Y or N): +$2\n",
    "#Add pepperoni for medium or large pizza (Y or N): +$3\n",
    "#Add extra cheese for any size pizza (Y or N): +$1\n",
    "\n",
    "if pizza_size == \"S\":\n",
    "    bill = 15\n",
    "    if want_pepperoni == \"Y\":\n",
    "        bill += 2\n",
    "    elif pizza_size == \"M\":\n",
    "        bill = 20 \n",
    "    if pizza_size == \"L\" :\n",
    "        bill = 25\n",
    "    if want_pepperoni == \"Y\":\n",
    "        bill += 3\n",
    "\n",
    "if extra_cheese == \"Y\":\n",
    "    bill += 1\n",
    "\n",
    "print(f\"Your bill is ${bill}\")\n"
   ]
  },
  {
   "cell_type": "code",
   "execution_count": 49,
   "id": "b1e86b0a-3db3-487f-aadd-0f08aca35b4e",
   "metadata": {},
   "outputs": [
    {
     "ename": "TypeError",
     "evalue": "'str' object is not callable",
     "output_type": "error",
     "traceback": [
      "\u001b[1;31m---------------------------------------------------------------------------\u001b[0m",
      "\u001b[1;31mTypeError\u001b[0m                                 Traceback (most recent call last)",
      "Cell \u001b[1;32mIn[49], line 7\u001b[0m\n\u001b[0;32m      1\u001b[0m \u001b[38;5;66;03m#Points\tPrize\u001b[39;00m\n\u001b[0;32m      2\u001b[0m \u001b[38;5;66;03m#1 - 50\t    wooden rabbit\u001b[39;00m\n\u001b[0;32m      3\u001b[0m \u001b[38;5;66;03m#51 - 150\tno prize\u001b[39;00m\n\u001b[0;32m      4\u001b[0m \u001b[38;5;66;03m#151 - 180\twafer-thin mint\u001b[39;00m\n\u001b[0;32m      5\u001b[0m \u001b[38;5;66;03m#181 - 200\tpenguin\u001b[39;00m\n\u001b[1;32m----> 7\u001b[0m points\u001b[38;5;241m=\u001b[39m\u001b[38;5;28mint\u001b[39m(\u001b[38;5;28;43minput\u001b[39;49m\u001b[43m(\u001b[49m\u001b[38;5;124;43m\"\u001b[39;49m\u001b[38;5;124;43mWrite your earned points:\u001b[39;49m\u001b[38;5;124;43m\"\u001b[39;49m\u001b[43m)\u001b[49m)\n\u001b[0;32m      9\u001b[0m \u001b[38;5;28;01mif\u001b[39;00m \u001b[38;5;241m1\u001b[39m\u001b[38;5;241m<\u001b[39m points \u001b[38;5;241m<\u001b[39m\u001b[38;5;241m50\u001b[39m:\n\u001b[0;32m     10\u001b[0m     prize\u001b[38;5;241m==\u001b[39m\u001b[38;5;124m\"\u001b[39m\u001b[38;5;124mwooden rabbit\u001b[39m\u001b[38;5;124m\"\u001b[39m\n",
      "\u001b[1;31mTypeError\u001b[0m: 'str' object is not callable"
     ]
    }
   ],
   "source": [
    "#Points\tPrize\n",
    "#1 - 50\t    wooden rabbit\n",
    "#51 - 150\tno prize\n",
    "#151 - 180\twafer-thin mint\n",
    "#181 - 200\tpenguin\n",
    "\n",
    "points=int(input(\"Write your earned points:\"))\n",
    "\n",
    "if 1< points <50:\n",
    "    prize==\"wooden rabbit\"\n",
    "elif 51< points <150:\n",
    "    prize=\"no prize\"\n",
    "elif 151< points <180: \n",
    "    prize=\"wafer-thin mint\"\n",
    "elif 181< points < 200:\n",
    "    prize=\"penguin\"\n",
    "else: \n",
    "    prize==\"Not Applicable\"\n",
    "\n",
    "if prize==\"no prize\" or prize==\"Not Applicable\":\n",
    "    print(\"Oh dear, no prize this time\")\n",
    "else:\n",
    "    print(\"Congratulations! You won a {prize}!\")\n",
    "\n",
    "\n"
   ]
  },
  {
   "cell_type": "code",
   "execution_count": 46,
   "id": "3412e8a2-e42b-4c1a-a9ec-fadc669af672",
   "metadata": {},
   "outputs": [
    {
     "ename": "TypeError",
     "evalue": "'str' object is not callable",
     "output_type": "error",
     "traceback": [
      "\u001b[1;31m---------------------------------------------------------------------------\u001b[0m",
      "\u001b[1;31mTypeError\u001b[0m                                 Traceback (most recent call last)",
      "Cell \u001b[1;32mIn[46], line 2\u001b[0m\n\u001b[0;32m      1\u001b[0m \u001b[38;5;66;03m#Write a Python program that determines if a given number is even or odd and prints the result.\u001b[39;00m\n\u001b[1;32m----> 2\u001b[0m number\u001b[38;5;241m=\u001b[39m\u001b[38;5;28mint\u001b[39m(\u001b[38;5;28;43minput\u001b[39;49m\u001b[43m(\u001b[49m\u001b[38;5;124;43m\"\u001b[39;49m\u001b[38;5;124;43mEnter a random number: \u001b[39;49m\u001b[38;5;124;43m\"\u001b[39;49m\u001b[43m)\u001b[49m)\n\u001b[0;32m      3\u001b[0m \u001b[38;5;28;01mif\u001b[39;00m number\u001b[38;5;241m%\u001b[39m\u001b[38;5;241m2\u001b[39m\u001b[38;5;241m==\u001b[39m\u001b[38;5;241m0\u001b[39m:\n\u001b[0;32m      4\u001b[0m     \u001b[38;5;28mprint\u001b[39m(\u001b[38;5;124m\"\u001b[39m\u001b[38;5;124mEVEN NUMBER!\u001b[39m\u001b[38;5;124m\"\u001b[39m)\n",
      "\u001b[1;31mTypeError\u001b[0m: 'str' object is not callable"
     ]
    }
   ],
   "source": [
    "#Write a Python program that determines if a given number is even or odd and prints the result.\n",
    "number=int(input(\"Enter a random number: \"))\n",
    "if number%2==0:\n",
    "    print(\"EVEN NUMBER!\")\n",
    "else: \n",
    "    print(\"ODD NUMBER!\")\n"
   ]
  },
  {
   "cell_type": "code",
   "execution_count": null,
   "id": "ad2ce252-56c7-4389-aa35-f0cc2f08fa62",
   "metadata": {},
   "outputs": [],
   "source": []
  }
 ],
 "metadata": {
  "kernelspec": {
   "display_name": "Python 3 (ipykernel)",
   "language": "python",
   "name": "python3"
  },
  "language_info": {
   "codemirror_mode": {
    "name": "ipython",
    "version": 3
   },
   "file_extension": ".py",
   "mimetype": "text/x-python",
   "name": "python",
   "nbconvert_exporter": "python",
   "pygments_lexer": "ipython3",
   "version": "3.13.2"
  }
 },
 "nbformat": 4,
 "nbformat_minor": 5
}
