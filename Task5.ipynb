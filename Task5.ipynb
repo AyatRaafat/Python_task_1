{
 "cells": [
  {
   "cell_type": "code",
   "execution_count": 16,
   "id": "ab6dd44a-328d-4298-9c79-1bd6028cf6fb",
   "metadata": {},
   "outputs": [
    {
     "name": "stdin",
     "output_type": "stream",
     "text": [
      "Enter your name:  nora\n",
      "Enter your partner's name:  yousuf\n"
     ]
    },
    {
     "name": "stdout",
     "output_type": "stream",
     "text": [
      "Your love score is: 32\n"
     ]
    }
   ],
   "source": [
    "\n",
    "def calculate_love_score(name1, name2):\n",
    "   \n",
    "    name1 = name1\n",
    "    name2 = name2\n",
    "\n",
    "    combined_names = name1 + name2\n",
    "\n",
    "    word_true = \"true\"\n",
    "    word_love = \"love\"\n",
    "\n",
    " # Count \n",
    "    true_score = sum(combined_names.count(letter) for letter in word_true)\n",
    "    love_score = sum(combined_names.count(letter) for letter in word_love)\n",
    "\n",
    "    love_score_total = int(str(true_score) + str(love_score))\n",
    "    print(f\"Your love score is: {love_score_total}\")\n",
    "\n",
    "\n",
    "name1 = input(\"Enter your name: \")\n",
    "name2 = input(\"Enter your partner's name: \")\n",
    "calculate_love_score(name1, name2)\n"
   ]
  },
  {
   "cell_type": "code",
   "execution_count": 25,
   "id": "b7fdaba5-a5fe-4eee-8652-80936641e4a1",
   "metadata": {},
   "outputs": [
    {
     "name": "stdin",
     "output_type": "stream",
     "text": [
      "please enter your frist name: ayat\n",
      "please enter your last name: raafat\n"
     ]
    },
    {
     "data": {
      "text/plain": [
       "'Ayat Raafat'"
      ]
     },
     "execution_count": 25,
     "metadata": {},
     "output_type": "execute_result"
    }
   ],
   "source": [
    "def format_name(f_name, l_name):\n",
    "    f_name= f_name\n",
    "    l_name= l_name\n",
    "    join_names=f_name + \" \" + l_name\n",
    "    \n",
    "    formatting_names=join_names.title()\n",
    "    return formatting_names\n",
    "    if not f_name or not l_name:\n",
    "        return \"You didn't provide valid inputs\"\n",
    "        \n",
    "    \n",
    "f_name=input(\"please enter your frist name:\")\n",
    "l_name=input(\"please enter your last name:\")\n",
    "\n",
    "format_name(f_name, l_name)\n",
    "  "
   ]
  }
 ],
 "metadata": {
  "kernelspec": {
   "display_name": "Python 3 (ipykernel)",
   "language": "python",
   "name": "python3"
  },
  "language_info": {
   "codemirror_mode": {
    "name": "ipython",
    "version": 3
   },
   "file_extension": ".py",
   "mimetype": "text/x-python",
   "name": "python",
   "nbconvert_exporter": "python",
   "pygments_lexer": "ipython3",
   "version": "3.13.2"
  }
 },
 "nbformat": 4,
 "nbformat_minor": 5
}
